{
 "cells": [
  {
   "cell_type": "code",
   "execution_count": 411,
   "metadata": {},
   "outputs": [],
   "source": [
    "from Crypto.Cipher import AES\n",
    "from Crypto.Hash import HMAC, SHA256\n",
    "from Crypto.Random import get_random_bytes\n",
    "from Crypto.Util.Padding import pad, unpad\n",
    "from copy import deepcopy\n",
    "key = 'e6a910750b03e4c800c0c04d8544cf2cc470c5f8d668b2d7cd6387bc8ca84ad3'\n",
    "key = bytes.fromhex(key)"
   ]
  },
  {
   "cell_type": "code",
   "execution_count": 412,
   "metadata": {},
   "outputs": [
    {
     "data": {
      "text/plain": [
       "b'\\xeb\\xdayNe> V\\xfa7\\x83\\xeey\\x80Zb\"O\\xa0}&@I\\xb7\\xdf\\xe2\\xa6\\x1b\\xda\\xa12\\\\xU\"6\\xefz)\\x16\\x1em\\x84\\xce\\x1c\\xd3\\xec*\\xfa\\xea\\xa3^.x4K]\\x8a\\x8a\\x1c\\xebAY\\xd2'"
      ]
     },
     "execution_count": 412,
     "metadata": {},
     "output_type": "execute_result"
    }
   ],
   "source": [
    " # Use a valid AES key length, such as 16, 24, or 32 bytes\n",
    "aes = AES.new(key, AES.MODE_CBC)\n",
    "pad1 = pad(b'Ciao bina come stia sono il bino che ti scrive da marte', AES.block_size)\n",
    "\n",
    "encrypted = aes.encrypt(pad1)\n",
    "encrypted"
   ]
  },
  {
   "cell_type": "code",
   "execution_count": 413,
   "metadata": {},
   "outputs": [],
   "source": [
    "iv = encrypted[:AES.block_size]\n",
    "aes1 = AES.new(key, AES.MODE_CBC,iv)\n",
    "\n",
    "decrypted = aes1.decrypt(encrypted[AES.block_size:])\n",
    "\n",
    "unpad1 = unpad(decrypted, AES.block_size)\n",
    "\n",
    "\n"
   ]
  },
  {
   "cell_type": "code",
   "execution_count": 414,
   "metadata": {},
   "outputs": [
    {
     "data": {
      "text/plain": [
       "b'tia sono il bino che ti scrive da marte'"
      ]
     },
     "execution_count": 414,
     "metadata": {},
     "output_type": "execute_result"
    }
   ],
   "source": [
    "unpad1"
   ]
  },
  {
   "cell_type": "code",
   "execution_count": 420,
   "metadata": {},
   "outputs": [
    {
     "name": "stdout",
     "output_type": "stream",
     "text": [
      "b'\\xe6\\xa9\\x10u\\x0b\\x03\\xe4\\xc8\\x00\\xc0\\xc0M\\x85D\\xcf,\\xc4p\\xc5\\xf8\\xd6h\\xb2\\xd7\\xcdc\\x87\\xbc\\x8c\\xa8J\\xd3'\n"
     ]
    }
   ],
   "source": [
    "decrypted\n",
    "print(key)"
   ]
  },
  {
   "cell_type": "code",
   "execution_count": 419,
   "metadata": {},
   "outputs": [
    {
     "name": "stdout",
     "output_type": "stream",
     "text": [
      "Encrypted message: 0bcadf1e3339a21df40aae62934d7c78137bb1b2fb75b8253f0892f13f41d2aab8c407a59777f8008c1f9b83c0e04fb755d04170b93cffd005869c92426473c0acf86ddbe090332581871fdddfa4cf6d\n",
      "b'\\x0b\\xca\\xdf\\x1e39\\xa2\\x1d\\xf4\\n\\xaeb\\x93M|x\\x13{\\xb1\\xb2\\xfbu\\xb8%?\\x08\\x92\\xf1?A\\xd2\\xaa\\xb8\\xc4\\x07\\xa5\\x97w\\xf8\\x00\\x8c\\x1f\\x9b\\x83\\xc0\\xe0O\\xb7U\\xd0Ap\\xb9<\\xff\\xd0\\x05\\x86\\x9c\\x92Bds\\xc0\\xac\\xf8m\\xdb\\xe0\\x903%\\x81\\x87\\x1f\\xdd\\xdf\\xa4\\xcfm'\n",
      "b'\\xe6\\xa9\\x10u\\x0b\\x03\\xe4\\xc8\\x00\\xc0\\xc0M\\x85D\\xcf,\\xc4p\\xc5\\xf8\\xd6h\\xb2\\xd7\\xcdc\\x87\\xbc\\x8c\\xa8J\\xd3'\n",
      "Decrypted message: Ciao bina come stia sono il bino che ti scrive da marte\n"
     ]
    }
   ],
   "source": [
    "from Crypto.Cipher import AES\n",
    "from Crypto.Util.Padding import pad, unpad\n",
    "from Crypto.Random import get_random_bytes\n",
    "\n",
    "# Encryption function\n",
    "def encrypt_message(key, plaintext):\n",
    "    # Generate a random IV (Initialization Vector)\n",
    "    iv = get_random_bytes(AES.block_size)\n",
    "    \n",
    "    # Create AES cipher object in CBC mode\n",
    "    cipher = AES.new(key, AES.MODE_CBC,iv)\n",
    "    \n",
    "    # Pad the plaintext\n",
    "    padded_plaintext = pad(plaintext, AES.block_size)\n",
    "    \n",
    "    # Encrypt the padded plaintext\n",
    "    ciphertext = cipher.encrypt(padded_plaintext)\n",
    "    \n",
    "    # Return the IV and ciphertext\n",
    "    return iv + ciphertext\n",
    "\n",
    "# Decryption function\n",
    "def decrypt_message(key, ciphertext):\n",
    "    # Extract the IV from the beginning of the ciphertext\n",
    "    iv = ciphertext[:AES.block_size]\n",
    "    \n",
    "    # Create AES cipher object in CBC mode\n",
    "    cipher = AES.new(key, AES.MODE_CBC, iv)\n",
    "    \n",
    "    # Decrypt the ciphertext\n",
    "    decrypted_data = cipher.decrypt(ciphertext[AES.block_size:])\n",
    "    \n",
    "    # Unpad the decrypted data\n",
    "    unpadded_data = unpad(decrypted_data, AES.block_size)\n",
    "    \n",
    "    # Return the unpadded data\n",
    "    return unpadded_data\n",
    "\n",
    "# Example usage: # Example key, should be 16, 24, or 32 bytes long for AES-128, AES-192, or AES-256 respectively\n",
    "plaintext = b'Ciao bina come stia sono il bino che ti scrive da marte'  # Example plaintext\n",
    "\n",
    "# Encrypt the plaintext\n",
    "encrypted_message = encrypt_message(key, plaintext)\n",
    "print(\"Encrypted message:\", encrypted_message.hex())\n",
    "print(encrypted_message)\n",
    "# Decrypt the ciphertext\n",
    "print(key)\n",
    "decrypted_message = decrypt_message(key, encrypted_message)\n",
    "print(\"Decrypted message:\", decrypted_message.decode('utf-8'))"
   ]
  }
 ],
 "metadata": {
  "kernelspec": {
   "display_name": "ml_venv",
   "language": "python",
   "name": "python3"
  },
  "language_info": {
   "codemirror_mode": {
    "name": "ipython",
    "version": 3
   },
   "file_extension": ".py",
   "mimetype": "text/x-python",
   "name": "python",
   "nbconvert_exporter": "python",
   "pygments_lexer": "ipython3",
   "version": "3.9.18"
  }
 },
 "nbformat": 4,
 "nbformat_minor": 2
}
